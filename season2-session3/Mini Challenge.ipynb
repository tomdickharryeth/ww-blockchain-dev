{
 "cells": [
  {
   "cell_type": "markdown",
   "id": "4147d184",
   "metadata": {},
   "source": [
    "## Mini-Challenge: Querying and Plotting WILD Token Prices"
   ]
  },
  {
   "cell_type": "markdown",
   "id": "e4b8a1dd",
   "metadata": {},
   "source": [
    "In this mini-challenge, you’ll use the CoinGecko API to fetch price data for the WILD token and plot its price over time using the matplotlib library."
   ]
  },
  {
   "cell_type": "code",
   "execution_count": null,
   "id": "2f1bc415",
   "metadata": {},
   "outputs": [],
   "source": [
    "import requests\n",
    "import matplotlib.pyplot as plt\n",
    "import datetime\n"
   ]
  },
  {
   "cell_type": "code",
   "execution_count": null,
   "id": "f9aa1dd9",
   "metadata": {},
   "outputs": [],
   "source": [
    "# Function to fetch the historical price of WILD in USD\n",
    "def fetch_wild_price_data(num_days=10):\n",
    "    url = f\"https://api.coingecko.com/api/v3/coins/wilder-world/market_chart?vs_currency=usd&days={num_days}&interval=daily\"\n",
    "    response = requests.get(url)\n",
    "    \n",
    "    if response.status_code == 200:\n",
    "        data = response.json()\n",
    "        return data['prices']\n",
    "        \n",
    "    else:\n",
    "        print(f\"Error: {response.status_code}\")\n",
    "        return None\n",
    "\n",
    "    "
   ]
  },
  {
   "cell_type": "code",
   "execution_count": null,
   "id": "da427212",
   "metadata": {},
   "outputs": [],
   "source": [
    "# Plot wild price against date. This function expects a dictionary with the dates as keys and price as values\n",
    "def plot_wild_price(data):\n",
    "    dates = list(data.keys())\n",
    "    prices = list(data.values())\n",
    "    \n",
    "    plt.figure(figsize=(10, 6))\n",
    "    plt.plot(dates, prices, marker='o')\n",
    "    plt.title('WILD Price vs Time')\n",
    "    plt.xlabel('Date')\n",
    "    plt.ylabel('Price (USD)')\n",
    "    plt.xticks(rotation=45)\n",
    "    plt.tight_layout()\n",
    "    plt.show()"
   ]
  },
  {
   "cell_type": "code",
   "execution_count": null,
   "id": "9cb80773",
   "metadata": {},
   "outputs": [],
   "source": [
    "# Convert a unix timestamp (in millisec) to datetime\n",
    "def convert_unix_timestamp_to_datetime(timestamp):\n",
    "    return datetime.datetime.fromtimestamp(timestamp/1000)"
   ]
  },
  {
   "attachments": {
    "image.png": {
     "image/png": "[encoded data removed]"
    }
   },
   "cell_type": "markdown",
   "id": "9692d761",
   "metadata": {},
   "source": [
    "## Write a function that will plot the price of WILD for the last 20 days!\n",
    "\n",
    "Some hints\n",
    "\n",
    "- Coingecko returns price data as a list of lists like this:\n",
    "\n",
    "![image.png](attachment:image.png)\n",
    "\n",
    "- The numbers on the left are unix timestamps. You need to convert them to datetime using the ``convert_unix_timestamp_to_datetime`` function\n",
    "- You need to convert this data into a dictionary before passing this dictionary into ``plot_wild_price``\n",
    "- Remember we need 20 days of price data, this is not the default if you call ``fetch_wild_price_data`` without any arguments\n",
    "\n",
    "### Submission\n",
    "\n",
    "Use your own GitHub account to submit, by creating a pull request to my repo with your changes.\n",
    "First to submit a working pull request wins!\n",
    "\n",
    "See this guide on how to do this\n",
    "https://codex.so/fork-and-pull-en\n"
   ]
  },
  {
   "cell_type": "code",
   "execution_count": null,
   "id": "ba2c7141",
   "metadata": {},
   "outputs": [],
   "source": []
  }
 ],
 "metadata": {
  "kernelspec": {
   "display_name": "Python 3 (ipykernel)",
   "language": "python",
   "name": "python3"
  },
  "language_info": {
   "codemirror_mode": {
    "name": "ipython",
    "version": 3
   },
   "file_extension": ".py",
   "mimetype": "text/x-python",
   "name": "python",
   "nbconvert_exporter": "python",
   "pygments_lexer": "ipython3",
   "version": "3.10.9"
  }
 },
 "nbformat": 4,
 "nbformat_minor": 5
}
